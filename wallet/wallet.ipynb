{
 "cells": [
  {
   "cell_type": "code",
   "execution_count": 53,
   "metadata": {},
   "outputs": [],
   "source": [
    "# Import dependencies\n",
    "import subprocess\n",
    "import json\n",
    "import os\n",
    "from dotenv import load_dotenv"
   ]
  },
  {
   "cell_type": "code",
   "execution_count": 63,
   "metadata": {},
   "outputs": [
    {
     "name": "stdout",
     "output_type": "stream",
     "text": [
      "dumb position robust coral flat tunnel mind gather must struggle motor grow all appear true\n"
     ]
    }
   ],
   "source": [
    "# Load and set environment variables\n",
    "load_dotenv()\n",
    "mnemonic=os.getenv(\"mnemonic\")\n",
    "print(mnemonic)"
   ]
  },
  {
   "cell_type": "code",
   "execution_count": 64,
   "metadata": {},
   "outputs": [],
   "source": [
    "# Import constants.py and necessary functions from bit and web3\n",
    "from constants import *\n",
    "from web3 import Web3\n",
    "w3= Web3(Web3.HTTPProvider(\"http://127.0.0.1:8545\"))\n",
    "from bit import Key\n"
   ]
  },
  {
   "cell_type": "code",
   "execution_count": null,
   "metadata": {},
   "outputs": [],
   "source": [
    "w3.eth.getBalance(\"0x9018B241Bcd5Da0C65c7343cff92a738E6C647d4\")"
   ]
  },
  {
   "cell_type": "code",
   "execution_count": 98,
   "metadata": {},
   "outputs": [],
   "source": [
    "# Create a function called `derive_wallets`\n",
    "def derive_wallets(phrase, coin, numderive):\n",
    "    command = './ derive -g --mnemonic= \"{mnemonic}\" --cols=path,address,privkey,pubkey --numderive=numerdrive --coin={coin} --format=json'\n",
    "    p = subprocess.Popen(command, stdout=subprocess.PIPE, shell=True)\n",
    "    output, err = p.communicate()\n",
    "    p_status = p.wait()\n",
    "    keys =json.loads(output)\n",
    "    print(keys)"
   ]
  },
  {
   "cell_type": "code",
   "execution_count": null,
   "metadata": {},
   "outputs": [],
   "source": [
    "coins = {'eth':derive_wallets(phrase=mnemonic,coin=ETH,numderive=3),'btc-test': derive_wallets(mnemonic,coin=BTCTEST,numderive=3)}"
   ]
  },
  {
   "cell_type": "code",
   "execution_count": 36,
   "metadata": {},
   "outputs": [],
   "source": [
    "def priv_key_to_account(coin, priv_key):\n",
    "    global account\n",
    "    if coin == 'eth':\n",
    "        account=Account.privateKeyToAccount(priv_key)\n",
    "    else:\n",
    "        account=PrivateKeyTestnet(priv_key)\n",
    "    return account"
   ]
  },
  {
   "cell_type": "code",
   "execution_count": 39,
   "metadata": {},
   "outputs": [],
   "source": [
    "def create_tx(coin,account,recipient,amount):\n",
    "    global tx_data\n",
    "    if coin =='eth':\n",
    "        gasEstimate = w3.eth.estimateGas(\n",
    "            {\"from\": account.address, \"to\": recipient, \"value\": amount}\n",
    "        )\n",
    "        tx_data= {\n",
    "            \"from\": account.address,\n",
    "            \"to\": recipient,\n",
    "            \"value\": amount,\n",
    "            \"gasPrice\": w3.eth.gasPrice,\n",
    "            \"gas\": gasEstimate,\n",
    "            \"nonce\": w3.eth.getTransactionCount(account.address),\n",
    "        }\n",
    "        return tx_data\n",
    "    else:\n",
    "        tx_data = PrivateKeyTestnet.prepare_transaction(account.address, [(recipient, amount, BTC)])\n",
    "        return tx_data"
   ]
  },
  {
   "cell_type": "code",
   "execution_count": null,
   "metadata": {},
   "outputs": [],
   "source": [
    "def send_tx(coin, account, recipient, amount):\n",
    "    if coin == ETH:\n",
    "        tx = create_tx(coin,account, recipient, amount)\n",
    "        signed_tx = account.sign_transaction(tx)\n",
    "        result = w3.eth.sendRawTransaction(signed_tx.rawTransaction)\n",
    "        print(result.hex())\n",
    "        return result.hex()\n",
    "    else:\n",
    "        tx_data = create_tx(coin,account,recipient,amount)\n",
    "        signed = account.sign_transaction(tx_data)\n",
    "        NetworkAPI.broadcast_tx_testnet(signed)\n",
    "        return signed"
   ]
  }
 ],
 "metadata": {
  "kernelspec": {
   "display_name": "Python [conda env:ethereum]",
   "language": "python",
   "name": "conda-env-ethereum-py"
  },
  "language_info": {
   "codemirror_mode": {
    "name": "ipython",
    "version": 3
   },
   "file_extension": ".py",
   "mimetype": "text/x-python",
   "name": "python",
   "nbconvert_exporter": "python",
   "pygments_lexer": "ipython3",
   "version": "3.7.9"
  }
 },
 "nbformat": 4,
 "nbformat_minor": 4
}
