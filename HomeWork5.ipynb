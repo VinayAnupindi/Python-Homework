{
 "cells": [
  {
   "cell_type": "code",
   "execution_count": 249,
   "metadata": {},
   "outputs": [
    {
     "data": {
      "text/plain": [
       "True"
      ]
     },
     "execution_count": 249,
     "metadata": {},
     "output_type": "execute_result"
    }
   ],
   "source": [
    "# Initial imports\n",
    "import os\n",
    "import requests\n",
    "import pandas as pd\n",
    "import json\n",
    "from dotenv import load_dotenv\n",
    "from datetime import datetime\n",
    "import alpaca_trade_api as tradeapi\n",
    "from MCForecastTools import MCSimulation\n",
    "\n",
    "%matplotlib inline\n",
    "load_dotenv()"
   ]
  },
  {
   "cell_type": "code",
   "execution_count": 250,
   "metadata": {},
   "outputs": [],
   "source": [
    "# Set amount of BTC & ETH\n",
    "btc_amount=1.2\n",
    "eth_amount=5.3"
   ]
  },
  {
   "cell_type": "code",
   "execution_count": 251,
   "metadata": {},
   "outputs": [],
   "source": [
    " # Crypto API URLs\n",
    "btc_url = \"https://api.alternative.me/v2/ticker/Bitcoin/?convert=CADn\"\n",
    "eth_url = \"https://api.alternative.me/v2/ticker/Ethereum/?convert=CAD\""
   ]
  },
  {
   "cell_type": "code",
   "execution_count": 252,
   "metadata": {},
   "outputs": [],
   "source": [
    "# Change format of API for JSON\n",
    "btc_url=btc_url+\"?format=json\"\n",
    "eth_url=eth_url+\"?format=json\"\n",
    "btc_response=requests.get(btc_url)\n",
    "eth_response=requests.get(eth_url)"
   ]
  },
  {
   "cell_type": "code",
   "execution_count": 253,
   "metadata": {},
   "outputs": [
    {
     "name": "stdout",
     "output_type": "stream",
     "text": [
      "b'{\\n\\t\"data\": {\\n\\t\\t\"1\": {\\n\\t\\t\\t\"id\": 1,\\n\\t\\t\\t\"name\": \"Bitcoin\",\\n\\t\\t\\t\"symbol\": \"BTC\",\\n\\t\\t\\t\"website_slug\": \"bitcoin\",\\n\\t\\t\\t\"rank\": 1,\\n\\t\\t\\t\"circulating_supply\": 18606850,\\n\\t\\t\\t\"total_supply\": 18606850,\\n\\t\\t\\t\"max_supply\": 21000000,\\n\\t\\t\\t\"quotes\": {\\n\\t\\t\\t\\t\"USD\": {\\n\\t\\t\\t\\t\\t\"price\": 29356.0000000000000000,\\n\\t\\t\\t\\t\\t\"volume_24h\": 71047965817,\\n\\t\\t\\t\\t\\t\"market_cap\": 555251357427,\\n\\t\\t\\t\\t\\t\"percentage_change_1h\": -3.8660618759574100,\\n\\t\\t\\t\\t\\t\"percentage_change_24h\": -16.0687504767024000,\\n\\t\\t\\t\\t\\t\"percentage_change_7d\": -25.1759145147435000,\\n\\t\\t\\t\\t\\t\"percent_change_1h\": -3.8660618759574100,\\n\\t\\t\\t\\t\\t\"percent_change_24h\": -16.0687504767024000,\\n\\t\\t\\t\\t\\t\"percent_change_7d\": -25.1759145147435000\\n\\t\\t\\t\\t}\\n\\t\\t\\t},\\n\\t\\t\\t\"last_updated\": 1611277769\\n\\t\\t}\\n\\t},\\n\\t\"metadata\": {\\n\\t\\t\"timestamp\": 1611277769,\\n\\t\\t\"num_cryptocurrencies\": 1383,\\n\\t\\t\"error\": null\\n\\t}\\n}'\n",
      "b'{\\n\\t\"data\": {\\n\\t\\t\"1027\": {\\n\\t\\t\\t\"id\": 1027,\\n\\t\\t\\t\"name\": \"Ethereum\",\\n\\t\\t\\t\"symbol\": \"ETH\",\\n\\t\\t\\t\"website_slug\": \"ethereum\",\\n\\t\\t\\t\"rank\": 2,\\n\\t\\t\\t\"circulating_supply\": 114349983,\\n\\t\\t\\t\"total_supply\": 114349983,\\n\\t\\t\\t\"max_supply\": 0,\\n\\t\\t\\t\"quotes\": {\\n\\t\\t\\t\\t\"USD\": {\\n\\t\\t\\t\\t\\t\"price\": 1068.7200000000000000,\\n\\t\\t\\t\\t\\t\"volume_24h\": 50567756780,\\n\\t\\t\\t\\t\\t\"market_cap\": 123101219040,\\n\\t\\t\\t\\t\\t\"percentage_change_1h\": -3.3101006282845400,\\n\\t\\t\\t\\t\\t\"percentage_change_24h\": -21.1765917206875000,\\n\\t\\t\\t\\t\\t\"percentage_change_7d\": -12.1782165299328000,\\n\\t\\t\\t\\t\\t\"percent_change_1h\": -3.3101006282845400,\\n\\t\\t\\t\\t\\t\"percent_change_24h\": -21.1765917206875000,\\n\\t\\t\\t\\t\\t\"percent_change_7d\": -12.1782165299328000\\n\\t\\t\\t\\t}\\n\\t\\t\\t},\\n\\t\\t\\t\"last_updated\": 1611277483\\n\\t\\t}\\n\\t},\\n\\t\"metadata\": {\\n\\t\\t\"timestamp\": 1611277483,\\n\\t\\t\"num_cryptocurrencies\": 1383,\\n\\t\\t\"error\": null\\n\\t}\\n}'\n"
     ]
    }
   ],
   "source": [
    "# Get content\n",
    "btc_content=btc_response.content\n",
    "eth_content=eth_response.content\n",
    "print(btc_content)\n",
    "print(eth_content)"
   ]
  },
  {
   "cell_type": "code",
   "execution_count": 254,
   "metadata": {},
   "outputs": [],
   "source": [
    "# Formatting as json\n",
    "btc_data=btc_response.json()\n",
    "eth_data=eth_response.json()"
   ]
  },
  {
   "cell_type": "code",
   "execution_count": 255,
   "metadata": {},
   "outputs": [
    {
     "name": "stdout",
     "output_type": "stream",
     "text": [
      "{\n",
      "    \"data\": {\n",
      "        \"1\": {\n",
      "            \"id\": 1,\n",
      "            \"name\": \"Bitcoin\",\n",
      "            \"symbol\": \"BTC\",\n",
      "            \"website_slug\": \"bitcoin\",\n",
      "            \"rank\": 1,\n",
      "            \"circulating_supply\": 18606850,\n",
      "            \"total_supply\": 18606850,\n",
      "            \"max_supply\": 21000000,\n",
      "            \"quotes\": {\n",
      "                \"USD\": {\n",
      "                    \"price\": 29356.0,\n",
      "                    \"volume_24h\": 71047965817,\n",
      "                    \"market_cap\": 555251357427,\n",
      "                    \"percentage_change_1h\": -3.86606187595741,\n",
      "                    \"percentage_change_24h\": -16.0687504767024,\n",
      "                    \"percentage_change_7d\": -25.1759145147435,\n",
      "                    \"percent_change_1h\": -3.86606187595741,\n",
      "                    \"percent_change_24h\": -16.0687504767024,\n",
      "                    \"percent_change_7d\": -25.1759145147435\n",
      "                }\n",
      "            },\n",
      "            \"last_updated\": 1611277769\n",
      "        }\n",
      "    },\n",
      "    \"metadata\": {\n",
      "        \"timestamp\": 1611277769,\n",
      "        \"num_cryptocurrencies\": 1383,\n",
      "        \"error\": null\n",
      "    }\n",
      "}\n",
      "{\n",
      "    \"data\": {\n",
      "        \"1027\": {\n",
      "            \"id\": 1027,\n",
      "            \"name\": \"Ethereum\",\n",
      "            \"symbol\": \"ETH\",\n",
      "            \"website_slug\": \"ethereum\",\n",
      "            \"rank\": 2,\n",
      "            \"circulating_supply\": 114349983,\n",
      "            \"total_supply\": 114349983,\n",
      "            \"max_supply\": 0,\n",
      "            \"quotes\": {\n",
      "                \"USD\": {\n",
      "                    \"price\": 1068.72,\n",
      "                    \"volume_24h\": 50567756780,\n",
      "                    \"market_cap\": 123101219040,\n",
      "                    \"percentage_change_1h\": -3.31010062828454,\n",
      "                    \"percentage_change_24h\": -21.1765917206875,\n",
      "                    \"percentage_change_7d\": -12.1782165299328,\n",
      "                    \"percent_change_1h\": -3.31010062828454,\n",
      "                    \"percent_change_24h\": -21.1765917206875,\n",
      "                    \"percent_change_7d\": -12.1782165299328\n",
      "                }\n",
      "            },\n",
      "            \"last_updated\": 1611277483\n",
      "        }\n",
      "    },\n",
      "    \"metadata\": {\n",
      "        \"timestamp\": 1611277483,\n",
      "        \"num_cryptocurrencies\": 1383,\n",
      "        \"error\": null\n",
      "    }\n",
      "}\n"
     ]
    }
   ],
   "source": [
    "# Add indents to JSON and output to screen\n",
    "print(json.dumps(btc_data,indent=4))\n",
    "print(json.dumps(eth_data,indent=4))"
   ]
  },
  {
   "cell_type": "code",
   "execution_count": 256,
   "metadata": {},
   "outputs": [
    {
     "name": "stdout",
     "output_type": "stream",
     "text": [
      "29356.0\n",
      "1068.72\n"
     ]
    }
   ],
   "source": [
    "#Get current BTC & ETH price\n",
    "btc_price=btc_data['data']['1']['quotes']['USD']['price']\n",
    "eth_price=eth_data['data']['1027']['quotes']['USD']['price']\n",
    "print(btc_price)\n",
    "print(eth_price)"
   ]
  },
  {
   "cell_type": "code",
   "execution_count": 257,
   "metadata": {},
   "outputs": [],
   "source": [
    "#Calculate current value of BTC & ETH\n",
    "btc_current_value=btc_amount*btc_price\n",
    "eth_current_value=eth_amount*eth_price"
   ]
  },
  {
   "cell_type": "code",
   "execution_count": 258,
   "metadata": {},
   "outputs": [
    {
     "name": "stdout",
     "output_type": "stream",
     "text": [
      "The current value of your 1.2 BTC is $35227.20\n",
      "The current value of your 5.3 ETH is $5664.22\n"
     ]
    }
   ],
   "source": [
    "#Print current value of BTC & ETH \n",
    "print(f\"The current value of your {btc_amount} BTC is ${btc_current_value:0.2f}\")\n",
    "print(f\"The current value of your {eth_amount} ETH is ${eth_current_value:0.2f}\")"
   ]
  },
  {
   "cell_type": "code",
   "execution_count": 259,
   "metadata": {},
   "outputs": [],
   "source": [
    "#Collective Investments Data using Alpaca "
   ]
  },
  {
   "cell_type": "code",
   "execution_count": 260,
   "metadata": {},
   "outputs": [],
   "source": [
    "#Set amount of shares\n",
    "my_agg=200\n",
    "my_spy=50"
   ]
  },
  {
   "cell_type": "code",
   "execution_count": 261,
   "metadata": {},
   "outputs": [],
   "source": [
    "# Set Alpaca API key and secret\n",
    "alpaca_api_key = os.getenv(\"ALPACA_API_KEY\")\n",
    "alpaca_secret_key = os.getenv(\"ALPACA_SECRET_KEY\")"
   ]
  },
  {
   "cell_type": "code",
   "execution_count": 262,
   "metadata": {},
   "outputs": [
    {
     "name": "stdout",
     "output_type": "stream",
     "text": [
      "Alpaca Key type: <class 'str'>\n",
      "Alpaca Secret Key type: <class 'str'>\n"
     ]
    }
   ],
   "source": [
    "#Verify Alpaca key &secret key \n",
    "print(f\"Alpaca Key type: {type(alpaca_api_key)}\")\n",
    "print(f\"Alpaca Secret Key type: {type(alpaca_secret_key)}\")\n",
    "\n"
   ]
  },
  {
   "cell_type": "code",
   "execution_count": 263,
   "metadata": {},
   "outputs": [],
   "source": [
    "# Create the Alpaca API object\n",
    "alpaca = tradeapi.REST(\n",
    "    alpaca_api_key,alpaca_secret_key,\n",
    " api_version=\"v2\")"
   ]
  },
  {
   "cell_type": "code",
   "execution_count": 264,
   "metadata": {},
   "outputs": [
    {
     "name": "stdout",
     "output_type": "stream",
     "text": [
      "2021-01-21T00:00:00-05:00\n"
     ]
    }
   ],
   "source": [
    "# Format current date as ISO format\n",
    "start = pd.Timestamp(\"2021-01-21\", tz=\"America/New_York\").isoformat()\n",
    "end=pd.Timestamp(\"2021-01-21\", tz=\"America/New_York\").isoformat()\n",
    "print(end)"
   ]
  },
  {
   "cell_type": "code",
   "execution_count": 265,
   "metadata": {},
   "outputs": [],
   "source": [
    " # Set the tickers\n",
    "tickers = [\"SPY\", \"AGG\"]"
   ]
  },
  {
   "cell_type": "code",
   "execution_count": 266,
   "metadata": {},
   "outputs": [],
   "source": [
    "# Set timeframe to one day ('1D') for the Alpaca API\n",
    "timeframe = \"1D\""
   ]
  },
  {
   "cell_type": "code",
   "execution_count": 267,
   "metadata": {},
   "outputs": [
    {
     "data": {
      "text/html": [
       "<div>\n",
       "<style scoped>\n",
       "    .dataframe tbody tr th:only-of-type {\n",
       "        vertical-align: middle;\n",
       "    }\n",
       "\n",
       "    .dataframe tbody tr th {\n",
       "        vertical-align: top;\n",
       "    }\n",
       "\n",
       "    .dataframe thead tr th {\n",
       "        text-align: left;\n",
       "    }\n",
       "</style>\n",
       "<table border=\"1\" class=\"dataframe\">\n",
       "  <thead>\n",
       "    <tr>\n",
       "      <th></th>\n",
       "      <th colspan=\"5\" halign=\"left\">AGG</th>\n",
       "      <th colspan=\"5\" halign=\"left\">SPY</th>\n",
       "    </tr>\n",
       "    <tr>\n",
       "      <th></th>\n",
       "      <th>open</th>\n",
       "      <th>high</th>\n",
       "      <th>low</th>\n",
       "      <th>close</th>\n",
       "      <th>volume</th>\n",
       "      <th>open</th>\n",
       "      <th>high</th>\n",
       "      <th>low</th>\n",
       "      <th>close</th>\n",
       "      <th>volume</th>\n",
       "    </tr>\n",
       "  </thead>\n",
       "  <tbody>\n",
       "    <tr>\n",
       "      <th>2021-01-21 00:00:00-05:00</th>\n",
       "      <td>117.22</td>\n",
       "      <td>117.2985</td>\n",
       "      <td>117.14</td>\n",
       "      <td>117.26</td>\n",
       "      <td>5801029</td>\n",
       "      <td>384.49</td>\n",
       "      <td>384.95</td>\n",
       "      <td>383.25</td>\n",
       "      <td>384.2</td>\n",
       "      <td>41800991</td>\n",
       "    </tr>\n",
       "  </tbody>\n",
       "</table>\n",
       "</div>"
      ],
      "text/plain": [
       "                              AGG                                        SPY  \\\n",
       "                             open      high     low   close   volume    open   \n",
       "2021-01-21 00:00:00-05:00  117.22  117.2985  117.14  117.26  5801029  384.49   \n",
       "\n",
       "                                                            \n",
       "                             high     low  close    volume  \n",
       "2021-01-21 00:00:00-05:00  384.95  383.25  384.2  41800991  "
      ]
     },
     "execution_count": 267,
     "metadata": {},
     "output_type": "execute_result"
    }
   ],
   "source": [
    " # Get current closing prices for SPY and AGG\n",
    "df_portfolio = alpaca.get_barset(\n",
    "    tickers,\n",
    "    timeframe,\n",
    "    start = start,\n",
    "    end = end\n",
    ").df\n",
    "\n",
    "# Display sample data\n",
    "df_portfolio"
   ]
  },
  {
   "cell_type": "code",
   "execution_count": 268,
   "metadata": {},
   "outputs": [
    {
     "data": {
      "text/html": [
       "<div>\n",
       "<style scoped>\n",
       "    .dataframe tbody tr th:only-of-type {\n",
       "        vertical-align: middle;\n",
       "    }\n",
       "\n",
       "    .dataframe tbody tr th {\n",
       "        vertical-align: top;\n",
       "    }\n",
       "\n",
       "    .dataframe thead th {\n",
       "        text-align: right;\n",
       "    }\n",
       "</style>\n",
       "<table border=\"1\" class=\"dataframe\">\n",
       "  <thead>\n",
       "    <tr style=\"text-align: right;\">\n",
       "      <th></th>\n",
       "      <th>AGG</th>\n",
       "      <th>SPY</th>\n",
       "    </tr>\n",
       "  </thead>\n",
       "  <tbody>\n",
       "    <tr>\n",
       "      <th>2021-01-21</th>\n",
       "      <td>117.26</td>\n",
       "      <td>384.2</td>\n",
       "    </tr>\n",
       "  </tbody>\n",
       "</table>\n",
       "</div>"
      ],
      "text/plain": [
       "               AGG    SPY\n",
       "2021-01-21  117.26  384.2"
      ]
     },
     "execution_count": 268,
     "metadata": {},
     "output_type": "execute_result"
    }
   ],
   "source": [
    " # Create and empty DataFrame for closing prices\n",
    "df_closing_prices = pd.DataFrame()\n",
    "\n",
    "# Fetch the closing prices of AGG and SPY\n",
    "df_closing_prices[\"AGG\"] = df_portfolio[\"AGG\"][\"close\"]\n",
    "df_closing_prices[\"SPY\"] = df_portfolio[\"SPY\"][\"close\"]\n",
    "\n",
    "# Drop the time component of the date\n",
    "df_closing_prices.index = df_closing_prices.index.date\n",
    "\n",
    "# Display sample data\n",
    "df_closing_prices"
   ]
  },
  {
   "cell_type": "code",
   "execution_count": 269,
   "metadata": {},
   "outputs": [
    {
     "name": "stdout",
     "output_type": "stream",
     "text": [
      "Current AGG closing price: $117.26\n",
      "Current SPY closing price: $384.2\n"
     ]
    }
   ],
   "source": [
    "# Pick AGG and SPY close prices\n",
    "agg_close_price=df_closing_prices[\"AGG\"][0]\n",
    "spy_close_price=df_closing_prices[\"SPY\"][0]\n",
    "# Print AGG and SPY close prices\n",
    "print(f\"Current AGG closing price: ${agg_close_price}\")\n",
    "print(f\"Current SPY closing price: ${spy_close_price}\")\n",
    "# Compute the current value of shares\n"
   ]
  },
  {
   "cell_type": "code",
   "execution_count": 270,
   "metadata": {},
   "outputs": [],
   "source": [
    "#Calculate value of shares\n",
    "agg_value=my_agg*agg_close_price\n",
    "spy_value=my_spy*spy_close_price\n"
   ]
  },
  {
   "cell_type": "code",
   "execution_count": 271,
   "metadata": {},
   "outputs": [
    {
     "name": "stdout",
     "output_type": "stream",
     "text": [
      "The current value of your 50 SPY shares is $19210.00\n",
      "The current value of your 200 AGG shares is $23452.00\n"
     ]
    }
   ],
   "source": [
    "# Print current value of shares\n",
    "print(f\"The current value of your {my_spy} SPY shares is ${spy_value:0.2f}\")\n",
    "print(f\"The current value of your {my_agg} AGG shares is ${agg_value:0.2f}\")"
   ]
  },
  {
   "cell_type": "code",
   "execution_count": 272,
   "metadata": {},
   "outputs": [],
   "source": [
    "#Saving Health Analysis "
   ]
  },
  {
   "cell_type": "code",
   "execution_count": 273,
   "metadata": {},
   "outputs": [
    {
     "name": "stdout",
     "output_type": "stream",
     "text": [
      "40891.416\n",
      "42662.0\n"
     ]
    }
   ],
   "source": [
    "#Set Monthly income and Total crypto & stocks value\n",
    "monthly_income=12000\n",
    "total_crypto_value=btc_current_value+eth_current_value\n",
    "total_stocks_value=spy_value+agg_value\n",
    "print(total_crypto_value)\n",
    "print(total_stocks_value)"
   ]
  },
  {
   "cell_type": "code",
   "execution_count": 274,
   "metadata": {},
   "outputs": [
    {
     "data": {
      "text/html": [
       "<div>\n",
       "<style scoped>\n",
       "    .dataframe tbody tr th:only-of-type {\n",
       "        vertical-align: middle;\n",
       "    }\n",
       "\n",
       "    .dataframe tbody tr th {\n",
       "        vertical-align: top;\n",
       "    }\n",
       "\n",
       "    .dataframe thead th {\n",
       "        text-align: right;\n",
       "    }\n",
       "</style>\n",
       "<table border=\"1\" class=\"dataframe\">\n",
       "  <thead>\n",
       "    <tr style=\"text-align: right;\">\n",
       "      <th></th>\n",
       "      <th>amount</th>\n",
       "    </tr>\n",
       "  </thead>\n",
       "  <tbody>\n",
       "    <tr>\n",
       "      <th>crypto</th>\n",
       "      <td>40891.416</td>\n",
       "    </tr>\n",
       "    <tr>\n",
       "      <th>stocks</th>\n",
       "      <td>42662.000</td>\n",
       "    </tr>\n",
       "  </tbody>\n",
       "</table>\n",
       "</div>"
      ],
      "text/plain": [
       "           amount\n",
       "crypto  40891.416\n",
       "stocks  42662.000"
      ]
     },
     "execution_count": 274,
     "metadata": {},
     "output_type": "execute_result"
    }
   ],
   "source": [
    "#Create DataFrame with crypto and stocks values \n",
    "values=[total_crypto_value,total_stocks_value]\n",
    "df_savings= pd.DataFrame(values,columns=[\"amount\"],index=[\"crypto\",\"stocks\"])\n",
    "df_savings"
   ]
  },
  {
   "cell_type": "code",
   "execution_count": 275,
   "metadata": {},
   "outputs": [
    {
     "data": {
      "text/plain": [
       "<matplotlib.axes._subplots.AxesSubplot at 0x11f47d220>"
      ]
     },
     "execution_count": 275,
     "metadata": {},
     "output_type": "execute_result"
    },
    {
     "data": {
      "image/png": "[encoded data removed]",
      "text/plain": [
       "<Figure size 360x360 with 1 Axes>"
      ]
     },
     "metadata": {},
     "output_type": "display_data"
    }
   ],
   "source": [
    "#plot pie chart of Crypto and Stocks savings\n",
    "df_savings.plot.pie (y=\"amount\",figsize=(5,5))"
   ]
  },
  {
   "cell_type": "code",
   "execution_count": 276,
   "metadata": {},
   "outputs": [
    {
     "name": "stdout",
     "output_type": "stream",
     "text": [
      "36000\n"
     ]
    }
   ],
   "source": [
    " # Set ideal emergency fund\n",
    "emergency_fund = monthly_income * 3\n",
    "print(emergency_fund)"
   ]
  },
  {
   "cell_type": "code",
   "execution_count": 277,
   "metadata": {},
   "outputs": [
    {
     "name": "stdout",
     "output_type": "stream",
     "text": [
      "83553.416\n"
     ]
    }
   ],
   "source": [
    "#Calculate total savings\n",
    "total_savings=total_crypto_value+total_stocks_value\n",
    "print(total_savings)"
   ]
  },
  {
   "cell_type": "code",
   "execution_count": 278,
   "metadata": {},
   "outputs": [
    {
     "name": "stdout",
     "output_type": "stream",
     "text": [
      " Congratulations! You have enough money in your emergency fund.\n"
     ]
    }
   ],
   "source": [
    "#Create IF statement and loop to compare emerency fund and total savings \n",
    "if total_savings>emergency_fund:\n",
    "    print(' Congratulations! You have enough money in your emergency fund.')\n",
    "elif total_savings==emergency_fund:\n",
    "    print(' Congratulations! You have reached your finacnial goal.')\n",
    "else: print(f\"You need ${emergency_fund-total_savings:0.2f} to reach your goal\")"
   ]
  },
  {
   "cell_type": "code",
   "execution_count": 181,
   "metadata": {},
   "outputs": [],
   "source": [
    "#Part 2 Retirement Planning\n",
    "#MonteCarlo simulation"
   ]
  },
  {
   "cell_type": "code",
   "execution_count": 185,
   "metadata": {},
   "outputs": [],
   "source": [
    "# Set start and end dates of five years back from today.\n",
    "# Sample results may vary from the solution based on the time frame chosen\n",
    "start_date = pd.Timestamp('2016-01-21', tz='America/New_York').isoformat()\n",
    "end_date = pd.Timestamp('2021-01-21', tz='America/New_York').isoformat()"
   ]
  },
  {
   "cell_type": "code",
   "execution_count": 201,
   "metadata": {},
   "outputs": [
    {
     "data": {
      "text/html": [
       "<div>\n",
       "<style scoped>\n",
       "    .dataframe tbody tr th:only-of-type {\n",
       "        vertical-align: middle;\n",
       "    }\n",
       "\n",
       "    .dataframe tbody tr th {\n",
       "        vertical-align: top;\n",
       "    }\n",
       "\n",
       "    .dataframe thead tr th {\n",
       "        text-align: left;\n",
       "    }\n",
       "</style>\n",
       "<table border=\"1\" class=\"dataframe\">\n",
       "  <thead>\n",
       "    <tr>\n",
       "      <th></th>\n",
       "      <th colspan=\"5\" halign=\"left\">AGG</th>\n",
       "      <th colspan=\"5\" halign=\"left\">SPY</th>\n",
       "    </tr>\n",
       "    <tr>\n",
       "      <th></th>\n",
       "      <th>open</th>\n",
       "      <th>high</th>\n",
       "      <th>low</th>\n",
       "      <th>close</th>\n",
       "      <th>volume</th>\n",
       "      <th>open</th>\n",
       "      <th>high</th>\n",
       "      <th>low</th>\n",
       "      <th>close</th>\n",
       "      <th>volume</th>\n",
       "    </tr>\n",
       "  </thead>\n",
       "  <tbody>\n",
       "    <tr>\n",
       "      <th>2016-01-21 00:00:00-05:00</th>\n",
       "      <td>109.08</td>\n",
       "      <td>109.0800</td>\n",
       "      <td>108.7400</td>\n",
       "      <td>108.78</td>\n",
       "      <td>6927926</td>\n",
       "      <td>186.21</td>\n",
       "      <td>188.87</td>\n",
       "      <td>184.64</td>\n",
       "      <td>186.68</td>\n",
       "      <td>154918462</td>\n",
       "    </tr>\n",
       "    <tr>\n",
       "      <th>2016-01-22 00:00:00-05:00</th>\n",
       "      <td>108.72</td>\n",
       "      <td>108.8500</td>\n",
       "      <td>108.5850</td>\n",
       "      <td>108.82</td>\n",
       "      <td>2980878</td>\n",
       "      <td>189.78</td>\n",
       "      <td>190.76</td>\n",
       "      <td>188.88</td>\n",
       "      <td>190.49</td>\n",
       "      <td>132418951</td>\n",
       "    </tr>\n",
       "    <tr>\n",
       "      <th>2016-01-25 00:00:00-05:00</th>\n",
       "      <td>108.95</td>\n",
       "      <td>108.9800</td>\n",
       "      <td>108.7700</td>\n",
       "      <td>108.79</td>\n",
       "      <td>3120189</td>\n",
       "      <td>189.93</td>\n",
       "      <td>190.15</td>\n",
       "      <td>187.41</td>\n",
       "      <td>187.66</td>\n",
       "      <td>99219694</td>\n",
       "    </tr>\n",
       "    <tr>\n",
       "      <th>2016-01-26 00:00:00-05:00</th>\n",
       "      <td>108.90</td>\n",
       "      <td>108.9950</td>\n",
       "      <td>108.7699</td>\n",
       "      <td>108.90</td>\n",
       "      <td>2023631</td>\n",
       "      <td>188.42</td>\n",
       "      <td>190.53</td>\n",
       "      <td>188.02</td>\n",
       "      <td>190.18</td>\n",
       "      <td>115312517</td>\n",
       "    </tr>\n",
       "    <tr>\n",
       "      <th>2016-01-27 00:00:00-05:00</th>\n",
       "      <td>108.91</td>\n",
       "      <td>109.0100</td>\n",
       "      <td>108.7200</td>\n",
       "      <td>108.95</td>\n",
       "      <td>1531148</td>\n",
       "      <td>189.58</td>\n",
       "      <td>191.56</td>\n",
       "      <td>187.06</td>\n",
       "      <td>188.12</td>\n",
       "      <td>157060622</td>\n",
       "    </tr>\n",
       "    <tr>\n",
       "      <th>...</th>\n",
       "      <td>...</td>\n",
       "      <td>...</td>\n",
       "      <td>...</td>\n",
       "      <td>...</td>\n",
       "      <td>...</td>\n",
       "      <td>...</td>\n",
       "      <td>...</td>\n",
       "      <td>...</td>\n",
       "      <td>...</td>\n",
       "      <td>...</td>\n",
       "    </tr>\n",
       "    <tr>\n",
       "      <th>2021-01-14 00:00:00-05:00</th>\n",
       "      <td>117.37</td>\n",
       "      <td>117.4500</td>\n",
       "      <td>117.0800</td>\n",
       "      <td>117.15</td>\n",
       "      <td>5311077</td>\n",
       "      <td>380.59</td>\n",
       "      <td>381.13</td>\n",
       "      <td>378.10</td>\n",
       "      <td>378.45</td>\n",
       "      <td>41045335</td>\n",
       "    </tr>\n",
       "    <tr>\n",
       "      <th>2021-01-15 00:00:00-05:00</th>\n",
       "      <td>117.34</td>\n",
       "      <td>117.3600</td>\n",
       "      <td>117.1800</td>\n",
       "      <td>117.26</td>\n",
       "      <td>4776104</td>\n",
       "      <td>376.72</td>\n",
       "      <td>377.58</td>\n",
       "      <td>373.70</td>\n",
       "      <td>375.68</td>\n",
       "      <td>78405054</td>\n",
       "    </tr>\n",
       "    <tr>\n",
       "      <th>2021-01-19 00:00:00-05:00</th>\n",
       "      <td>117.27</td>\n",
       "      <td>117.4200</td>\n",
       "      <td>117.2200</td>\n",
       "      <td>117.41</td>\n",
       "      <td>5057257</td>\n",
       "      <td>378.34</td>\n",
       "      <td>379.23</td>\n",
       "      <td>376.75</td>\n",
       "      <td>378.63</td>\n",
       "      <td>42257108</td>\n",
       "    </tr>\n",
       "    <tr>\n",
       "      <th>2021-01-20 00:00:00-05:00</th>\n",
       "      <td>117.35</td>\n",
       "      <td>117.4300</td>\n",
       "      <td>117.3100</td>\n",
       "      <td>117.40</td>\n",
       "      <td>3877734</td>\n",
       "      <td>381.11</td>\n",
       "      <td>384.79</td>\n",
       "      <td>380.69</td>\n",
       "      <td>383.86</td>\n",
       "      <td>53064901</td>\n",
       "    </tr>\n",
       "    <tr>\n",
       "      <th>2021-01-21 00:00:00-05:00</th>\n",
       "      <td>117.22</td>\n",
       "      <td>117.2985</td>\n",
       "      <td>117.1400</td>\n",
       "      <td>117.26</td>\n",
       "      <td>5801029</td>\n",
       "      <td>384.49</td>\n",
       "      <td>384.95</td>\n",
       "      <td>383.25</td>\n",
       "      <td>384.20</td>\n",
       "      <td>41800991</td>\n",
       "    </tr>\n",
       "  </tbody>\n",
       "</table>\n",
       "<p>1260 rows × 10 columns</p>\n",
       "</div>"
      ],
      "text/plain": [
       "                              AGG                                       \\\n",
       "                             open      high       low   close   volume   \n",
       "2016-01-21 00:00:00-05:00  109.08  109.0800  108.7400  108.78  6927926   \n",
       "2016-01-22 00:00:00-05:00  108.72  108.8500  108.5850  108.82  2980878   \n",
       "2016-01-25 00:00:00-05:00  108.95  108.9800  108.7700  108.79  3120189   \n",
       "2016-01-26 00:00:00-05:00  108.90  108.9950  108.7699  108.90  2023631   \n",
       "2016-01-27 00:00:00-05:00  108.91  109.0100  108.7200  108.95  1531148   \n",
       "...                           ...       ...       ...     ...      ...   \n",
       "2021-01-14 00:00:00-05:00  117.37  117.4500  117.0800  117.15  5311077   \n",
       "2021-01-15 00:00:00-05:00  117.34  117.3600  117.1800  117.26  4776104   \n",
       "2021-01-19 00:00:00-05:00  117.27  117.4200  117.2200  117.41  5057257   \n",
       "2021-01-20 00:00:00-05:00  117.35  117.4300  117.3100  117.40  3877734   \n",
       "2021-01-21 00:00:00-05:00  117.22  117.2985  117.1400  117.26  5801029   \n",
       "\n",
       "                              SPY                                     \n",
       "                             open    high     low   close     volume  \n",
       "2016-01-21 00:00:00-05:00  186.21  188.87  184.64  186.68  154918462  \n",
       "2016-01-22 00:00:00-05:00  189.78  190.76  188.88  190.49  132418951  \n",
       "2016-01-25 00:00:00-05:00  189.93  190.15  187.41  187.66   99219694  \n",
       "2016-01-26 00:00:00-05:00  188.42  190.53  188.02  190.18  115312517  \n",
       "2016-01-27 00:00:00-05:00  189.58  191.56  187.06  188.12  157060622  \n",
       "...                           ...     ...     ...     ...        ...  \n",
       "2021-01-14 00:00:00-05:00  380.59  381.13  378.10  378.45   41045335  \n",
       "2021-01-15 00:00:00-05:00  376.72  377.58  373.70  375.68   78405054  \n",
       "2021-01-19 00:00:00-05:00  378.34  379.23  376.75  378.63   42257108  \n",
       "2021-01-20 00:00:00-05:00  381.11  384.79  380.69  383.86   53064901  \n",
       "2021-01-21 00:00:00-05:00  384.49  384.95  383.25  384.20   41800991  \n",
       "\n",
       "[1260 rows x 10 columns]"
      ]
     },
     "execution_count": 201,
     "metadata": {},
     "output_type": "execute_result"
    }
   ],
   "source": [
    " # Get current closing prices for SPY and AGG\n",
    "df_stock_data = alpaca.get_barset(\n",
    "    tickers,\n",
    "    timeframe,\n",
    "    start = start_date,\n",
    "    end = end_date\n",
    ").df\n",
    "\n",
    "# Display sample data\n",
    "df_stock_data"
   ]
  },
  {
   "cell_type": "code",
   "execution_count": 187,
   "metadata": {},
   "outputs": [
    {
     "data": {
      "text/plain": [
       "\u001b[0;31mInit signature:\u001b[0m\n",
       "\u001b[0mMCSimulation\u001b[0m\u001b[0;34m(\u001b[0m\u001b[0;34m\u001b[0m\n",
       "\u001b[0;34m\u001b[0m    \u001b[0mportfolio_data\u001b[0m\u001b[0;34m,\u001b[0m\u001b[0;34m\u001b[0m\n",
       "\u001b[0;34m\u001b[0m    \u001b[0mweights\u001b[0m\u001b[0;34m=\u001b[0m\u001b[0;34m''\u001b[0m\u001b[0;34m,\u001b[0m\u001b[0;34m\u001b[0m\n",
       "\u001b[0;34m\u001b[0m    \u001b[0mnum_simulation\u001b[0m\u001b[0;34m=\u001b[0m\u001b[0;36m1000\u001b[0m\u001b[0;34m,\u001b[0m\u001b[0;34m\u001b[0m\n",
       "\u001b[0;34m\u001b[0m    \u001b[0mnum_trading_days\u001b[0m\u001b[0;34m=\u001b[0m\u001b[0;36m252\u001b[0m\u001b[0;34m,\u001b[0m\u001b[0;34m\u001b[0m\n",
       "\u001b[0;34m\u001b[0m\u001b[0;34m)\u001b[0m\u001b[0;34m\u001b[0m\u001b[0;34m\u001b[0m\u001b[0m\n",
       "\u001b[0;31mDocstring:\u001b[0m     \n",
       "A Python class for runnning Monte Carlo simulation on portfolio price data. \n",
       "\n",
       "...\n",
       "\n",
       "Attributes\n",
       "----------\n",
       "portfolio_data : pandas.DataFrame\n",
       "    portfolio dataframe\n",
       "weights: list(float)\n",
       "    portfolio investment breakdown\n",
       "nSim: int\n",
       "    number of samples in simulation\n",
       "nTrading: int\n",
       "    number of trading days to simulate\n",
       "simulated_return : pandas.DataFrame\n",
       "    Simulated data from Monte Carlo\n",
       "confidence_interval : pandas.Series\n",
       "    the 95% confidence intervals for simulated final cumulative returns\n",
       "    \n",
       "\u001b[0;31mInit docstring:\u001b[0m\n",
       "Constructs all the necessary attributes for the MCSimulation object.\n",
       "\n",
       "Parameters\n",
       "----------\n",
       "portfolio_data: pandas.DataFrame\n",
       "    DataFrame containing stock price information from Alpaca API\n",
       "weights: list(float)\n",
       "    A list fractions representing percentage of total investment per stock. DEFAULT: Equal distribution\n",
       "num_simulation: int\n",
       "    Number of simulation samples. DEFAULT: 1000 simulation samples\n",
       "num_trading_days: int\n",
       "    Number of trading days to simulate. DEFAULT: 252 days (1 year of business days)\n",
       "\u001b[0;31mFile:\u001b[0m           ~/Desktop/Fintech-Projects--main/MCForecastTools.py\n",
       "\u001b[0;31mType:\u001b[0m           type\n",
       "\u001b[0;31mSubclasses:\u001b[0m     \n"
      ]
     },
     "metadata": {},
     "output_type": "display_data"
    }
   ],
   "source": [
    "# Print the documentation of the MCSimulation module of the MCForecastTools library\n",
    "?MCSimulation"
   ]
  },
  {
   "cell_type": "code",
   "execution_count": 211,
   "metadata": {},
   "outputs": [],
   "source": [
    "# Configuring a Monte Carlo simulation to forecast thirty years cumulative returns\n",
    "MC_thirtyyear = MCSimulation(\n",
    "    portfolio_data = df_stock_data,\n",
    "    weights = [.60,.40],\n",
    "    num_simulation = 500,\n",
    "    num_trading_days = 252*30\n",
    ")"
   ]
  },
  {
   "cell_type": "code",
   "execution_count": 248,
   "metadata": {},
   "outputs": [
    {
     "data": {
      "text/html": [
       "<div>\n",
       "<style scoped>\n",
       "    .dataframe tbody tr th:only-of-type {\n",
       "        vertical-align: middle;\n",
       "    }\n",
       "\n",
       "    .dataframe tbody tr th {\n",
       "        vertical-align: top;\n",
       "    }\n",
       "\n",
       "    .dataframe thead tr th {\n",
       "        text-align: left;\n",
       "    }\n",
       "</style>\n",
       "<table border=\"1\" class=\"dataframe\">\n",
       "  <thead>\n",
       "    <tr>\n",
       "      <th></th>\n",
       "      <th colspan=\"6\" halign=\"left\">AGG</th>\n",
       "      <th colspan=\"6\" halign=\"left\">SPY</th>\n",
       "    </tr>\n",
       "    <tr>\n",
       "      <th></th>\n",
       "      <th>open</th>\n",
       "      <th>high</th>\n",
       "      <th>low</th>\n",
       "      <th>close</th>\n",
       "      <th>volume</th>\n",
       "      <th>daily_return</th>\n",
       "      <th>open</th>\n",
       "      <th>high</th>\n",
       "      <th>low</th>\n",
       "      <th>close</th>\n",
       "      <th>volume</th>\n",
       "      <th>daily_return</th>\n",
       "    </tr>\n",
       "  </thead>\n",
       "  <tbody>\n",
       "    <tr>\n",
       "      <th>2016-01-21 00:00:00-05:00</th>\n",
       "      <td>109.08</td>\n",
       "      <td>109.080</td>\n",
       "      <td>108.7400</td>\n",
       "      <td>108.78</td>\n",
       "      <td>6927926</td>\n",
       "      <td>NaN</td>\n",
       "      <td>186.21</td>\n",
       "      <td>188.87</td>\n",
       "      <td>184.64</td>\n",
       "      <td>186.68</td>\n",
       "      <td>154918462</td>\n",
       "      <td>NaN</td>\n",
       "    </tr>\n",
       "    <tr>\n",
       "      <th>2016-01-22 00:00:00-05:00</th>\n",
       "      <td>108.72</td>\n",
       "      <td>108.850</td>\n",
       "      <td>108.5850</td>\n",
       "      <td>108.82</td>\n",
       "      <td>2980878</td>\n",
       "      <td>0.000368</td>\n",
       "      <td>189.78</td>\n",
       "      <td>190.76</td>\n",
       "      <td>188.88</td>\n",
       "      <td>190.49</td>\n",
       "      <td>132418951</td>\n",
       "      <td>0.020409</td>\n",
       "    </tr>\n",
       "    <tr>\n",
       "      <th>2016-01-25 00:00:00-05:00</th>\n",
       "      <td>108.95</td>\n",
       "      <td>108.980</td>\n",
       "      <td>108.7700</td>\n",
       "      <td>108.79</td>\n",
       "      <td>3120189</td>\n",
       "      <td>-0.000276</td>\n",
       "      <td>189.93</td>\n",
       "      <td>190.15</td>\n",
       "      <td>187.41</td>\n",
       "      <td>187.66</td>\n",
       "      <td>99219694</td>\n",
       "      <td>-0.014856</td>\n",
       "    </tr>\n",
       "    <tr>\n",
       "      <th>2016-01-26 00:00:00-05:00</th>\n",
       "      <td>108.90</td>\n",
       "      <td>108.995</td>\n",
       "      <td>108.7699</td>\n",
       "      <td>108.90</td>\n",
       "      <td>2023631</td>\n",
       "      <td>0.001011</td>\n",
       "      <td>188.42</td>\n",
       "      <td>190.53</td>\n",
       "      <td>188.02</td>\n",
       "      <td>190.18</td>\n",
       "      <td>115312517</td>\n",
       "      <td>0.013429</td>\n",
       "    </tr>\n",
       "    <tr>\n",
       "      <th>2016-01-27 00:00:00-05:00</th>\n",
       "      <td>108.91</td>\n",
       "      <td>109.010</td>\n",
       "      <td>108.7200</td>\n",
       "      <td>108.95</td>\n",
       "      <td>1531148</td>\n",
       "      <td>0.000459</td>\n",
       "      <td>189.58</td>\n",
       "      <td>191.56</td>\n",
       "      <td>187.06</td>\n",
       "      <td>188.12</td>\n",
       "      <td>157060622</td>\n",
       "      <td>-0.010832</td>\n",
       "    </tr>\n",
       "  </tbody>\n",
       "</table>\n",
       "</div>"
      ],
      "text/plain": [
       "                              AGG                                      \\\n",
       "                             open     high       low   close   volume   \n",
       "2016-01-21 00:00:00-05:00  109.08  109.080  108.7400  108.78  6927926   \n",
       "2016-01-22 00:00:00-05:00  108.72  108.850  108.5850  108.82  2980878   \n",
       "2016-01-25 00:00:00-05:00  108.95  108.980  108.7700  108.79  3120189   \n",
       "2016-01-26 00:00:00-05:00  108.90  108.995  108.7699  108.90  2023631   \n",
       "2016-01-27 00:00:00-05:00  108.91  109.010  108.7200  108.95  1531148   \n",
       "\n",
       "                                           SPY                          \\\n",
       "                          daily_return    open    high     low   close   \n",
       "2016-01-21 00:00:00-05:00          NaN  186.21  188.87  184.64  186.68   \n",
       "2016-01-22 00:00:00-05:00     0.000368  189.78  190.76  188.88  190.49   \n",
       "2016-01-25 00:00:00-05:00    -0.000276  189.93  190.15  187.41  187.66   \n",
       "2016-01-26 00:00:00-05:00     0.001011  188.42  190.53  188.02  190.18   \n",
       "2016-01-27 00:00:00-05:00     0.000459  189.58  191.56  187.06  188.12   \n",
       "\n",
       "                                                   \n",
       "                              volume daily_return  \n",
       "2016-01-21 00:00:00-05:00  154918462          NaN  \n",
       "2016-01-22 00:00:00-05:00  132418951     0.020409  \n",
       "2016-01-25 00:00:00-05:00   99219694    -0.014856  \n",
       "2016-01-26 00:00:00-05:00  115312517     0.013429  \n",
       "2016-01-27 00:00:00-05:00  157060622    -0.010832  "
      ]
     },
     "execution_count": 248,
     "metadata": {},
     "output_type": "execute_result"
    }
   ],
   "source": [
    "#print Data\n",
    "MC_thirtyyear.portfolio_data.head()"
   ]
  },
  {
   "cell_type": "code",
   "execution_count": 213,
   "metadata": {},
   "outputs": [
    {
     "name": "stdout",
     "output_type": "stream",
     "text": [
      "Running Monte Carlo simulation number 0.\n",
      "Running Monte Carlo simulation number 10.\n",
      "Running Monte Carlo simulation number 20.\n",
      "Running Monte Carlo simulation number 30.\n",
      "Running Monte Carlo simulation number 40.\n",
      "Running Monte Carlo simulation number 50.\n",
      "Running Monte Carlo simulation number 60.\n",
      "Running Monte Carlo simulation number 70.\n",
      "Running Monte Carlo simulation number 80.\n",
      "Running Monte Carlo simulation number 90.\n",
      "Running Monte Carlo simulation number 100.\n",
      "Running Monte Carlo simulation number 110.\n",
      "Running Monte Carlo simulation number 120.\n",
      "Running Monte Carlo simulation number 130.\n",
      "Running Monte Carlo simulation number 140.\n",
      "Running Monte Carlo simulation number 150.\n",
      "Running Monte Carlo simulation number 160.\n",
      "Running Monte Carlo simulation number 170.\n",
      "Running Monte Carlo simulation number 180.\n",
      "Running Monte Carlo simulation number 190.\n",
      "Running Monte Carlo simulation number 200.\n",
      "Running Monte Carlo simulation number 210.\n",
      "Running Monte Carlo simulation number 220.\n",
      "Running Monte Carlo simulation number 230.\n",
      "Running Monte Carlo simulation number 240.\n",
      "Running Monte Carlo simulation number 250.\n",
      "Running Monte Carlo simulation number 260.\n",
      "Running Monte Carlo simulation number 270.\n",
      "Running Monte Carlo simulation number 280.\n",
      "Running Monte Carlo simulation number 290.\n",
      "Running Monte Carlo simulation number 300.\n",
      "Running Monte Carlo simulation number 310.\n",
      "Running Monte Carlo simulation number 320.\n",
      "Running Monte Carlo simulation number 330.\n",
      "Running Monte Carlo simulation number 340.\n",
      "Running Monte Carlo simulation number 350.\n",
      "Running Monte Carlo simulation number 360.\n",
      "Running Monte Carlo simulation number 370.\n",
      "Running Monte Carlo simulation number 380.\n",
      "Running Monte Carlo simulation number 390.\n",
      "Running Monte Carlo simulation number 400.\n",
      "Running Monte Carlo simulation number 410.\n",
      "Running Monte Carlo simulation number 420.\n",
      "Running Monte Carlo simulation number 430.\n",
      "Running Monte Carlo simulation number 440.\n",
      "Running Monte Carlo simulation number 450.\n",
      "Running Monte Carlo simulation number 460.\n",
      "Running Monte Carlo simulation number 470.\n",
      "Running Monte Carlo simulation number 480.\n",
      "Running Monte Carlo simulation number 490.\n"
     ]
    },
    {
     "data": {
      "text/html": [
       "<div>\n",
       "<style scoped>\n",
       "    .dataframe tbody tr th:only-of-type {\n",
       "        vertical-align: middle;\n",
       "    }\n",
       "\n",
       "    .dataframe tbody tr th {\n",
       "        vertical-align: top;\n",
       "    }\n",
       "\n",
       "    .dataframe thead th {\n",
       "        text-align: right;\n",
       "    }\n",
       "</style>\n",
       "<table border=\"1\" class=\"dataframe\">\n",
       "  <thead>\n",
       "    <tr style=\"text-align: right;\">\n",
       "      <th></th>\n",
       "      <th>0</th>\n",
       "      <th>1</th>\n",
       "      <th>2</th>\n",
       "      <th>3</th>\n",
       "      <th>4</th>\n",
       "      <th>5</th>\n",
       "      <th>6</th>\n",
       "      <th>7</th>\n",
       "      <th>8</th>\n",
       "      <th>9</th>\n",
       "      <th>...</th>\n",
       "      <th>490</th>\n",
       "      <th>491</th>\n",
       "      <th>492</th>\n",
       "      <th>493</th>\n",
       "      <th>494</th>\n",
       "      <th>495</th>\n",
       "      <th>496</th>\n",
       "      <th>497</th>\n",
       "      <th>498</th>\n",
       "      <th>499</th>\n",
       "    </tr>\n",
       "  </thead>\n",
       "  <tbody>\n",
       "    <tr>\n",
       "      <th>0</th>\n",
       "      <td>1.000000</td>\n",
       "      <td>1.000000</td>\n",
       "      <td>1.000000</td>\n",
       "      <td>1.000000</td>\n",
       "      <td>1.000000</td>\n",
       "      <td>1.000000</td>\n",
       "      <td>1.000000</td>\n",
       "      <td>1.000000</td>\n",
       "      <td>1.000000</td>\n",
       "      <td>1.000000</td>\n",
       "      <td>...</td>\n",
       "      <td>1.000000</td>\n",
       "      <td>1.000000</td>\n",
       "      <td>1.000000</td>\n",
       "      <td>1.000000</td>\n",
       "      <td>1.000000</td>\n",
       "      <td>1.000000</td>\n",
       "      <td>1.000000</td>\n",
       "      <td>1.000000</td>\n",
       "      <td>1.000000</td>\n",
       "      <td>1.000000</td>\n",
       "    </tr>\n",
       "    <tr>\n",
       "      <th>1</th>\n",
       "      <td>1.004434</td>\n",
       "      <td>0.993419</td>\n",
       "      <td>0.994880</td>\n",
       "      <td>0.999869</td>\n",
       "      <td>0.996356</td>\n",
       "      <td>1.000306</td>\n",
       "      <td>1.005985</td>\n",
       "      <td>1.004429</td>\n",
       "      <td>1.001149</td>\n",
       "      <td>1.000939</td>\n",
       "      <td>...</td>\n",
       "      <td>1.008598</td>\n",
       "      <td>0.996093</td>\n",
       "      <td>1.006458</td>\n",
       "      <td>1.002003</td>\n",
       "      <td>0.994158</td>\n",
       "      <td>0.997500</td>\n",
       "      <td>1.001254</td>\n",
       "      <td>1.004188</td>\n",
       "      <td>0.998023</td>\n",
       "      <td>1.003937</td>\n",
       "    </tr>\n",
       "    <tr>\n",
       "      <th>2</th>\n",
       "      <td>1.006165</td>\n",
       "      <td>0.991907</td>\n",
       "      <td>0.995386</td>\n",
       "      <td>1.006182</td>\n",
       "      <td>0.997582</td>\n",
       "      <td>0.998162</td>\n",
       "      <td>1.018663</td>\n",
       "      <td>1.001891</td>\n",
       "      <td>0.995550</td>\n",
       "      <td>0.997482</td>\n",
       "      <td>...</td>\n",
       "      <td>0.994571</td>\n",
       "      <td>0.991466</td>\n",
       "      <td>1.009201</td>\n",
       "      <td>1.002770</td>\n",
       "      <td>0.991726</td>\n",
       "      <td>0.994162</td>\n",
       "      <td>0.996562</td>\n",
       "      <td>0.998772</td>\n",
       "      <td>1.004879</td>\n",
       "      <td>1.014047</td>\n",
       "    </tr>\n",
       "    <tr>\n",
       "      <th>3</th>\n",
       "      <td>1.009875</td>\n",
       "      <td>0.997490</td>\n",
       "      <td>0.992694</td>\n",
       "      <td>1.003104</td>\n",
       "      <td>1.002841</td>\n",
       "      <td>0.999912</td>\n",
       "      <td>1.028015</td>\n",
       "      <td>0.996987</td>\n",
       "      <td>0.993159</td>\n",
       "      <td>0.997783</td>\n",
       "      <td>...</td>\n",
       "      <td>0.989488</td>\n",
       "      <td>0.993873</td>\n",
       "      <td>1.011528</td>\n",
       "      <td>1.001975</td>\n",
       "      <td>0.990787</td>\n",
       "      <td>0.995766</td>\n",
       "      <td>0.985211</td>\n",
       "      <td>1.003343</td>\n",
       "      <td>1.004738</td>\n",
       "      <td>1.013148</td>\n",
       "    </tr>\n",
       "    <tr>\n",
       "      <th>4</th>\n",
       "      <td>1.008532</td>\n",
       "      <td>0.996942</td>\n",
       "      <td>0.992901</td>\n",
       "      <td>0.999648</td>\n",
       "      <td>0.997220</td>\n",
       "      <td>1.000880</td>\n",
       "      <td>1.032190</td>\n",
       "      <td>1.004720</td>\n",
       "      <td>0.996851</td>\n",
       "      <td>0.987942</td>\n",
       "      <td>...</td>\n",
       "      <td>1.005262</td>\n",
       "      <td>0.994080</td>\n",
       "      <td>1.018214</td>\n",
       "      <td>0.999703</td>\n",
       "      <td>0.982604</td>\n",
       "      <td>0.992358</td>\n",
       "      <td>0.983090</td>\n",
       "      <td>1.003495</td>\n",
       "      <td>1.006838</td>\n",
       "      <td>1.013789</td>\n",
       "    </tr>\n",
       "    <tr>\n",
       "      <th>...</th>\n",
       "      <td>...</td>\n",
       "      <td>...</td>\n",
       "      <td>...</td>\n",
       "      <td>...</td>\n",
       "      <td>...</td>\n",
       "      <td>...</td>\n",
       "      <td>...</td>\n",
       "      <td>...</td>\n",
       "      <td>...</td>\n",
       "      <td>...</td>\n",
       "      <td>...</td>\n",
       "      <td>...</td>\n",
       "      <td>...</td>\n",
       "      <td>...</td>\n",
       "      <td>...</td>\n",
       "      <td>...</td>\n",
       "      <td>...</td>\n",
       "      <td>...</td>\n",
       "      <td>...</td>\n",
       "      <td>...</td>\n",
       "      <td>...</td>\n",
       "    </tr>\n",
       "    <tr>\n",
       "      <th>7556</th>\n",
       "      <td>6.085795</td>\n",
       "      <td>8.190997</td>\n",
       "      <td>16.290332</td>\n",
       "      <td>10.989019</td>\n",
       "      <td>6.192964</td>\n",
       "      <td>19.652610</td>\n",
       "      <td>8.675609</td>\n",
       "      <td>14.072934</td>\n",
       "      <td>11.919776</td>\n",
       "      <td>8.776641</td>\n",
       "      <td>...</td>\n",
       "      <td>10.825759</td>\n",
       "      <td>5.168025</td>\n",
       "      <td>6.302537</td>\n",
       "      <td>12.241569</td>\n",
       "      <td>8.312975</td>\n",
       "      <td>6.168509</td>\n",
       "      <td>11.936369</td>\n",
       "      <td>4.658618</td>\n",
       "      <td>15.789371</td>\n",
       "      <td>5.992345</td>\n",
       "    </tr>\n",
       "    <tr>\n",
       "      <th>7557</th>\n",
       "      <td>6.064707</td>\n",
       "      <td>8.184562</td>\n",
       "      <td>16.363349</td>\n",
       "      <td>10.942209</td>\n",
       "      <td>6.201608</td>\n",
       "      <td>19.659623</td>\n",
       "      <td>8.632448</td>\n",
       "      <td>14.062441</td>\n",
       "      <td>11.949122</td>\n",
       "      <td>8.811109</td>\n",
       "      <td>...</td>\n",
       "      <td>10.963476</td>\n",
       "      <td>5.201711</td>\n",
       "      <td>6.304100</td>\n",
       "      <td>12.284986</td>\n",
       "      <td>8.288688</td>\n",
       "      <td>6.169441</td>\n",
       "      <td>12.011084</td>\n",
       "      <td>4.599824</td>\n",
       "      <td>15.883949</td>\n",
       "      <td>6.030076</td>\n",
       "    </tr>\n",
       "    <tr>\n",
       "      <th>7558</th>\n",
       "      <td>6.071553</td>\n",
       "      <td>8.082816</td>\n",
       "      <td>16.236016</td>\n",
       "      <td>10.958789</td>\n",
       "      <td>6.203505</td>\n",
       "      <td>19.729765</td>\n",
       "      <td>8.654936</td>\n",
       "      <td>14.001870</td>\n",
       "      <td>11.929516</td>\n",
       "      <td>8.724820</td>\n",
       "      <td>...</td>\n",
       "      <td>10.930938</td>\n",
       "      <td>5.179703</td>\n",
       "      <td>6.280778</td>\n",
       "      <td>12.375889</td>\n",
       "      <td>8.372187</td>\n",
       "      <td>6.135383</td>\n",
       "      <td>12.011678</td>\n",
       "      <td>4.597177</td>\n",
       "      <td>15.924675</td>\n",
       "      <td>6.036480</td>\n",
       "    </tr>\n",
       "    <tr>\n",
       "      <th>7559</th>\n",
       "      <td>6.057248</td>\n",
       "      <td>8.166836</td>\n",
       "      <td>16.170410</td>\n",
       "      <td>10.914488</td>\n",
       "      <td>6.201569</td>\n",
       "      <td>19.763298</td>\n",
       "      <td>8.662395</td>\n",
       "      <td>14.038278</td>\n",
       "      <td>11.974017</td>\n",
       "      <td>8.718454</td>\n",
       "      <td>...</td>\n",
       "      <td>10.891500</td>\n",
       "      <td>5.192520</td>\n",
       "      <td>6.252901</td>\n",
       "      <td>12.308142</td>\n",
       "      <td>8.444726</td>\n",
       "      <td>6.132682</td>\n",
       "      <td>12.087070</td>\n",
       "      <td>4.597026</td>\n",
       "      <td>15.922287</td>\n",
       "      <td>5.985889</td>\n",
       "    </tr>\n",
       "    <tr>\n",
       "      <th>7560</th>\n",
       "      <td>6.021863</td>\n",
       "      <td>8.231476</td>\n",
       "      <td>16.163443</td>\n",
       "      <td>10.996714</td>\n",
       "      <td>6.214224</td>\n",
       "      <td>19.793001</td>\n",
       "      <td>8.690698</td>\n",
       "      <td>14.000199</td>\n",
       "      <td>11.925927</td>\n",
       "      <td>8.709446</td>\n",
       "      <td>...</td>\n",
       "      <td>10.922541</td>\n",
       "      <td>5.219576</td>\n",
       "      <td>6.261057</td>\n",
       "      <td>12.298542</td>\n",
       "      <td>8.400092</td>\n",
       "      <td>6.083401</td>\n",
       "      <td>12.026739</td>\n",
       "      <td>4.563741</td>\n",
       "      <td>15.860304</td>\n",
       "      <td>5.962985</td>\n",
       "    </tr>\n",
       "  </tbody>\n",
       "</table>\n",
       "<p>7561 rows × 500 columns</p>\n",
       "</div>"
      ],
      "text/plain": [
       "           0         1          2          3         4          5         6    \\\n",
       "0     1.000000  1.000000   1.000000   1.000000  1.000000   1.000000  1.000000   \n",
       "1     1.004434  0.993419   0.994880   0.999869  0.996356   1.000306  1.005985   \n",
       "2     1.006165  0.991907   0.995386   1.006182  0.997582   0.998162  1.018663   \n",
       "3     1.009875  0.997490   0.992694   1.003104  1.002841   0.999912  1.028015   \n",
       "4     1.008532  0.996942   0.992901   0.999648  0.997220   1.000880  1.032190   \n",
       "...        ...       ...        ...        ...       ...        ...       ...   \n",
       "7556  6.085795  8.190997  16.290332  10.989019  6.192964  19.652610  8.675609   \n",
       "7557  6.064707  8.184562  16.363349  10.942209  6.201608  19.659623  8.632448   \n",
       "7558  6.071553  8.082816  16.236016  10.958789  6.203505  19.729765  8.654936   \n",
       "7559  6.057248  8.166836  16.170410  10.914488  6.201569  19.763298  8.662395   \n",
       "7560  6.021863  8.231476  16.163443  10.996714  6.214224  19.793001  8.690698   \n",
       "\n",
       "            7          8         9    ...        490       491       492  \\\n",
       "0      1.000000   1.000000  1.000000  ...   1.000000  1.000000  1.000000   \n",
       "1      1.004429   1.001149  1.000939  ...   1.008598  0.996093  1.006458   \n",
       "2      1.001891   0.995550  0.997482  ...   0.994571  0.991466  1.009201   \n",
       "3      0.996987   0.993159  0.997783  ...   0.989488  0.993873  1.011528   \n",
       "4      1.004720   0.996851  0.987942  ...   1.005262  0.994080  1.018214   \n",
       "...         ...        ...       ...  ...        ...       ...       ...   \n",
       "7556  14.072934  11.919776  8.776641  ...  10.825759  5.168025  6.302537   \n",
       "7557  14.062441  11.949122  8.811109  ...  10.963476  5.201711  6.304100   \n",
       "7558  14.001870  11.929516  8.724820  ...  10.930938  5.179703  6.280778   \n",
       "7559  14.038278  11.974017  8.718454  ...  10.891500  5.192520  6.252901   \n",
       "7560  14.000199  11.925927  8.709446  ...  10.922541  5.219576  6.261057   \n",
       "\n",
       "            493       494       495        496       497        498       499  \n",
       "0      1.000000  1.000000  1.000000   1.000000  1.000000   1.000000  1.000000  \n",
       "1      1.002003  0.994158  0.997500   1.001254  1.004188   0.998023  1.003937  \n",
       "2      1.002770  0.991726  0.994162   0.996562  0.998772   1.004879  1.014047  \n",
       "3      1.001975  0.990787  0.995766   0.985211  1.003343   1.004738  1.013148  \n",
       "4      0.999703  0.982604  0.992358   0.983090  1.003495   1.006838  1.013789  \n",
       "...         ...       ...       ...        ...       ...        ...       ...  \n",
       "7556  12.241569  8.312975  6.168509  11.936369  4.658618  15.789371  5.992345  \n",
       "7557  12.284986  8.288688  6.169441  12.011084  4.599824  15.883949  6.030076  \n",
       "7558  12.375889  8.372187  6.135383  12.011678  4.597177  15.924675  6.036480  \n",
       "7559  12.308142  8.444726  6.132682  12.087070  4.597026  15.922287  5.985889  \n",
       "7560  12.298542  8.400092  6.083401  12.026739  4.563741  15.860304  5.962985  \n",
       "\n",
       "[7561 rows x 500 columns]"
      ]
     },
     "execution_count": 213,
     "metadata": {},
     "output_type": "execute_result"
    }
   ],
   "source": [
    "# Running a Monte Carlo simulation to forecast five years cumulative returns\n",
    "MC_thirtyyear.calc_cumulative_return()"
   ]
  },
  {
   "cell_type": "code",
   "execution_count": 214,
   "metadata": {},
   "outputs": [
    {
     "data": {
      "image/png": "[encoded data removed]",
      "text/plain": [
       "<Figure size 432x288 with 1 Axes>"
      ]
     },
     "metadata": {
      "needs_background": "light"
     },
     "output_type": "display_data"
    }
   ],
   "source": [
    "# Plot simulation outcomes\n",
    "line_plot=MC_thirtyyear.plot_simulation()"
   ]
  },
  {
   "cell_type": "code",
   "execution_count": 215,
   "metadata": {},
   "outputs": [
    {
     "data": {
      "image/png": "[encoded data removed]",
      "text/plain": [
       "<Figure size 432x288 with 1 Axes>"
      ]
     },
     "metadata": {
      "needs_background": "light"
     },
     "output_type": "display_data"
    }
   ],
   "source": [
    "# Plot probability distribution and confidence intervals\n",
    "dist_plot = MC_thirtyyear.plot_distribution()"
   ]
  },
  {
   "cell_type": "code",
   "execution_count": 216,
   "metadata": {},
   "outputs": [
    {
     "name": "stdout",
     "output_type": "stream",
     "text": [
      "count           500.000000\n",
      "mean              9.354677\n",
      "std               4.266364\n",
      "min               1.857097\n",
      "25%               6.398712\n",
      "50%               8.501786\n",
      "75%              11.314527\n",
      "max              30.187690\n",
      "95% CI Lower      3.714744\n",
      "95% CI Upper     19.622951\n",
      "Name: 7560, dtype: float64\n"
     ]
    }
   ],
   "source": [
    "# Fetch summary statistics from the Monte Carlo simulation results\n",
    "tbl = MC_thirtyyear.summarize_cumulative_return()\n",
    "\n",
    "# Print summary statistics\n",
    "print(tbl)"
   ]
  },
  {
   "cell_type": "code",
   "execution_count": 218,
   "metadata": {},
   "outputs": [
    {
     "name": "stdout",
     "output_type": "stream",
     "text": [
      "There is a 95% chance that an initial investment of $20000 in the portfolio over the next 30 years will end within in the range of $37147.44 and $196229.51\n"
     ]
    }
   ],
   "source": [
    "# Set initial investment\n",
    "initial_investment = 20000\n",
    "\n",
    "ci_lower = round(tbl[8]*10000,2)\n",
    "ci_upper = round(tbl[9]*10000,2)\n",
    "# Print results\n",
    "print(f\"There is a 95% chance that an initial investment of ${initial_investment} in the portfolio\"\n",
    "      f\" over the next 30 years will end within in the range of\"\n",
    "      f\" ${ci_lower} and ${ci_upper}\")"
   ]
  },
  {
   "cell_type": "code",
   "execution_count": 219,
   "metadata": {},
   "outputs": [
    {
     "name": "stdout",
     "output_type": "stream",
     "text": [
      "There is a 95% chance that an initial investment of $30000.0 in the portfolio over the next 30 years will end within in the range of $111442.31 and $588688.54\n"
     ]
    }
   ],
   "source": [
    "# Set initial investment\n",
    "initial_investment = 20000 * 1.5\n",
    "\n",
    "# Use the lower and upper `95%` confidence intervals to calculate the range of the possible outcomes of our $30,000\n",
    "ci_lower = round(tbl[8]*initial_investment,2)\n",
    "ci_upper = round(tbl[9]*initial_investment,2)\n",
    "\n",
    "# Print results\n",
    "print(f\"There is a 95% chance that an initial investment of ${initial_investment} in the portfolio\"\n",
    "      f\" over the next 30 years will end within in the range of\"\n",
    "      f\" ${ci_lower} and ${ci_upper}\")"
   ]
  },
  {
   "cell_type": "code",
   "execution_count": null,
   "metadata": {},
   "outputs": [],
   "source": []
  }
 ],
 "metadata": {
  "kernelspec": {
   "display_name": "Python 3",
   "language": "python",
   "name": "python3"
  },
  "language_info": {
   "codemirror_mode": {
    "name": "ipython",
    "version": 3
   },
   "file_extension": ".py",
   "mimetype": "text/x-python",
   "name": "python",
   "nbconvert_exporter": "python",
   "pygments_lexer": "ipython3",
   "version": "3.8.3"
  }
 },
 "nbformat": 4,
 "nbformat_minor": 4
}
