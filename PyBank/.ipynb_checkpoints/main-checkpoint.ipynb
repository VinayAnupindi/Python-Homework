{
 "cells": [
  {
   "cell_type": "code",
   "execution_count": 107,
   "metadata": {},
   "outputs": [
    {
     "name": "stdout",
     "output_type": "stream",
     "text": [
      "______Financial Analysis______\n",
      "Total: $38,382,578\n",
      "Total Months:  86\n",
      "Average Change: ,$-2315.12\n",
      "Greatest Increase: $1,926,159.0\n",
      "Greatest Decrease: $-2,196,167.0\n"
     ]
    }
   ],
   "source": [
    "#Method pandas\n",
    "import pandas as pd # import pandas as pd \n",
    "df = pd.read_csv('budget_data.csv') # Assign df as budget dataframe & use pandas read_csv\n",
    "Total_months=df['Date'].count() # Total_months = count of 'Date' column in df\n",
    "Total=df['Profit/Losses'].sum() # Total = sum of 'Profit/Loses' column' in df\n",
    "differences=df['Profit/Losses'].diff()  #Differences = diff of 'Profit/Loses' column in df\n",
    "greatest_increase=differences.max() # Greatest Increase = max of'Profit/Loses' column' in df\n",
    "greatest_decrease=differences.min() #Greatest Decrease = min of 'Profit/Loses' column' in df \n",
    "average_change=differences.mean()        # Average change = mean of differences   \n",
    "#Print All output required  \n",
    "print('______Financial Analysis______')\n",
    "print(f'Total: ${Total:,}')\n",
    "print('Total Months: ',Total_months)\n",
    "print(f'Average Change: ,${round(average_change,2)}')\n",
    "print(f'Greatest Increase: ${greatest_increase:,}')\n",
    "print(f'Greatest Decrease: ${greatest_decrease:,}')"
   ]
  },
  {
   "cell_type": "code",
   "execution_count": 100,
   "metadata": {},
   "outputs": [],
   "source": [
    "# Method with loops & of statements\n",
    "from pathlib import Path\n",
    "import csv\n",
    "import os"
   ]
  },
  {
   "cell_type": "code",
   "execution_count": 101,
   "metadata": {},
   "outputs": [],
   "source": [
    "csvpath=Path('budget_data.csv') #set file path"
   ]
  },
  {
   "cell_type": "code",
   "execution_count": 102,
   "metadata": {},
   "outputs": [],
   "source": [
    "# Define variables\n",
    "months = []\n",
    "pnl_changes = []\n",
    "count_months = 0\n",
    "net_pnl = 0\n",
    "previous_month_pnl = 0\n",
    "current_month_pnl = 0\n",
    "pnl_change = 0"
   ]
  },
  {
   "cell_type": "code",
   "execution_count": 103,
   "metadata": {},
   "outputs": [],
   "source": [
    "# Open CSV file and run loop\n",
    "with open(csvpath, 'r') as csvfile:\n",
    "    csv_reader = csv.reader(csvfile, delimiter=',')\n",
    "    csv_header = next(csvfile)\n",
    "    for row in csv_reader:\n",
    "        count_months += 1\n",
    "        current_month_pnl = int(row[1])\n",
    "        net_pnl += current_month_pnl\n",
    "        if (count_months == 1):\n",
    "            previous_month_pnl = current_month_pnl \n",
    "        else:\n",
    "            pnl_change = current_month_pnl - previous_month_pnl\n",
    "            months.append(row[0])\n",
    "            pnl_changes.append(pnl_change)\n",
    "            previous_month_pnl = current_month_pnl"
   ]
  },
  {
   "cell_type": "code",
   "execution_count": 104,
   "metadata": {},
   "outputs": [],
   "source": [
    "best_month = months[max_month]\n",
    "worst_month = months[min_month]"
   ]
  },
  {
   "cell_type": "code",
   "execution_count": 105,
   "metadata": {},
   "outputs": [
    {
     "name": "stdout",
     "output_type": "stream",
     "text": [
      "______Financial Analysis______\n",
      "Total Months:  86\n",
      "Total of Monthly Profits/Losses:   $ 38,382,578\n",
      "Average Increase/Decrease in Monthly Profits/Losses:  $-2,315\n",
      "Maximum Increase in Profits:  Feb-2012 $ 1,926,159\n",
      "Maximum Decrease in Profits:  Sep-2013 $-2,196,167\n"
     ]
    }
   ],
   "source": [
    "print('______Financial Analysis______')\n",
    "print(f'Total Months:  {count_months}')\n",
    "print(f'Total of Monthly Profits/Losses:   ${net_pnl: ,}')\n",
    "print(f'Average Increase/Decrease in Monthly Profits/Losses:  ${average_pnl: ,}')\n",
    "print(f'Maximum Increase in Profits:  {best_month} ${max_change: ,}')\n",
    "print(f'Maximum Decrease in Profits:  {worst_month} ${min_change: ,}')"
   ]
  },
  {
   "cell_type": "code",
   "execution_count": null,
   "metadata": {},
   "outputs": [],
   "source": []
  },
  {
   "cell_type": "code",
   "execution_count": null,
   "metadata": {},
   "outputs": [],
   "source": []
  }
 ],
 "metadata": {
  "kernelspec": {
   "display_name": "Python 3",
   "language": "python",
   "name": "python3"
  },
  "language_info": {
   "codemirror_mode": {
    "name": "ipython",
    "version": 3
   },
   "file_extension": ".py",
   "mimetype": "text/x-python",
   "name": "python",
   "nbconvert_exporter": "python",
   "pygments_lexer": "ipython3",
   "version": "3.8.3"
  }
 },
 "nbformat": 4,
 "nbformat_minor": 4
}
