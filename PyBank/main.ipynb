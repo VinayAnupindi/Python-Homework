{
 "cells": [
  {
   "cell_type": "code",
   "execution_count": 140,
   "metadata": {},
   "outputs": [
    {
     "name": "stdout",
     "output_type": "stream",
     "text": [
      "Financial Analysis\n",
      "___________________\n",
      "Total:  38382578\n",
      "Total Months:  86\n",
      "Average Change:  -2315.12\n",
      "Greatest Increase:  1170593\n",
      "Greatest Decrease:  -1196225\n"
     ]
    }
   ],
   "source": [
    "import pandas as pd # import pandas as pd \n",
    "df = pd.read_csv('budget_data.csv') # Assign df as budget dataframe & use pandas read_csv\n",
    "Total_months=df['Date'].count() # Total_months = count of 'Date' column in df\n",
    "Total=df['Profit/Losses'].sum() # Total = sum of 'Profit/Loses' column' in df\n",
    "greatest_increase=df['Profit/Losses'].max() # Greatest Increase = max of'Profit/Loses' column' in df\n",
    "greatest_decrease=df['Profit/Losses'].min() #Greatest Decrease = min of 'Profit/Loses' column' in df \n",
    "differences=df['Profit/Losses'].diff()  #Differences = diff of 'Profit/Loses' column in df\n",
    "average_change=differences.mean()        # Average change = mean of differences   \n",
    "print('Financial Analysis')               #Print All output required  \n",
    "print('___________________')\n",
    "print('Total: ',Total)\n",
    "print('Total Months: ',Total_months)\n",
    "print('Average Change: ',round(average_change,2))\n",
    "print('Greatest Increase: ',greatest_increase)\n",
    "print('Greatest Decrease: ',greatest_decrease)"
   ]
  },
  {
   "cell_type": "code",
   "execution_count": null,
   "metadata": {},
   "outputs": [],
   "source": []
  },
  {
   "cell_type": "code",
   "execution_count": null,
   "metadata": {},
   "outputs": [],
   "source": []
  }
 ],
 "metadata": {
  "kernelspec": {
   "display_name": "Python 3",
   "language": "python",
   "name": "python3"
  },
  "language_info": {
   "codemirror_mode": {
    "name": "ipython",
    "version": 3
   },
   "file_extension": ".py",
   "mimetype": "text/x-python",
   "name": "python",
   "nbconvert_exporter": "python",
   "pygments_lexer": "ipython3",
   "version": "3.8.3"
  }
 },
 "nbformat": 4,
 "nbformat_minor": 4
}
